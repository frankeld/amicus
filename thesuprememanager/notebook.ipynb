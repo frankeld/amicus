{
 "cells": [
  {
   "cell_type": "code",
   "execution_count": 73,
   "metadata": {
    "tags": []
   },
   "outputs": [],
   "source": [
    "from selenium import webdriver\n",
    "from selenium.webdriver.common.keys import Keys\n",
    "from selenium.webdriver.common.by import By\n",
    "from selenium.webdriver.support.ui import WebDriverWait\n",
    "from selenium.webdriver.support import expected_conditions as EC\n",
    "from bs4 import BeautifulSoup\n",
    "import requests\n",
    "\n",
    "driver = webdriver.Firefox()\n",
    "YEAR = str(2020)\n",
    "try:\n",
    "    driver.get('https://www.oyez.org/cases/' + YEAR)\n",
    "    WebDriverWait(driver, 10).until(\n",
    "        EC.presence_of_element_located((By.CSS_SELECTOR, 'a[href^=\"cases/'+ YEAR +'/\"]'))\n",
    "    )\n",
    "except:\n",
    "    driver.quit()"
   ]
  },
  {
   "cell_type": "code",
   "execution_count": 79,
   "metadata": {
    "tags": [
     "outputPrepend"
    ]
   },
   "outputs": [
    {
     "output_type": "stream",
     "name": "stdout",
     "text": "decision on February 9, 2007.\\nNearly seven years later, in 2013, Salinas filed a new application for a disability annuity. The Board granted him an annuity, but Salinas appealed the annuity&#39;s beginning date and amount. During that appeal, Salinas asked the Board to reopen all its decisions on his prior applications, including the decision denying his 2006 application. After a hearing, a Board hearing officer concluded that Salinas&#39;s 2006 application was beyond the four-year timeframe for reopening based on new and material evidence or administrative error under the Board&#39;s regulations. Salinas then asked the U.S. Court of Appeals to review the Board&#39;s decision not to reopen his 2006 application. Following its own binding precedent holding that it lacked jurisdiction to review a Board decision declining to reopen a prior benefits claim, the Fifth Circuit dismissed Salinas’s petition.\\n&quot;}, {&#39;title&#39;: &#39;Torres v. Madrid&#39;, &#39;id&#39;: &#39;19-292&#39;, &#39;description&#39;: &#39;A case in which the Court will decide whether an unsuccessful attempt to detain a suspect by use of physical force is a “seizure” within the meaning of the Fourth Amendment, or whether physical force must be successful in detaining a suspect to constitute a “seizure.”&#39;, &#39;dates&#39;: [&#39;Dec 18, 2019&#39;, &#39;Pending&#39;, &#39;Pending&#39;, &#39;&#39;], &#39;petitioner&#39;: &#39;Roxanne Torres&#39;, &#39;respondent&#39;: &#39;Janice Madrid, et al.&#39;, &#39;lower_court&#39;: &#39;United States Court of Appeals for the Tenth Circuit&#39;, &#39;facts&#39;: &#39;In 2014, Roxanne Torres was involved in an incident with police officers in which she was operating a vehicle under the influence of methamphetamine and in the process of trying to get away, endangered the two officers pursuing her. In the process, one of the officers shot and injured her. Torres pleaded no contest to three crimes: (1) aggravated fleeing from a law enforcement officer, (2) assault on a police officer, and (3) unlawfully taking a motor vehicle.\\nIn October 2016, she filed a civil-rights complaint in federal court against the two officers, alleging claims including excessive force and conspiracy to engage in excessive force. Construing Torres’s complaint as asserting the excessive-force claims under the Fourth Amendment, the court concluded that the officers were entitled to qualified immunity. In the court’s view, the officers had not seized Torres at the time of the shooting, and without a seizure, there could be no Fourth Amendment violation. The U.S. Court of Appeals for the Tenth Circuit affirmed.\\n&#39;, &#39;question&#39;: &#39;In 2014, Roxanne Torres was involved in an incident with police officers in which she was operating a vehicle under the influence of methamphetamine and in the process of trying to get away, endangered the two officers pursuing her. In the process, one of the officers shot and injured her. Torres pleaded no contest to three crimes: (1) aggravated fleeing from a law enforcement officer, (2) assault on a police officer, and (3) unlawfully taking a motor vehicle.\\nIn October 2016, she filed a civil-rights complaint in federal court against the two officers, alleging claims including excessive force and conspiracy to engage in excessive force. Construing Torres’s complaint as asserting the excessive-force claims under the Fourth Amendment, the court concluded that the officers were entitled to qualified immunity. In the court’s view, the officers had not seized Torres at the time of the shooting, and without a seizure, there could be no Fourth Amendment violation. The U.S. Court of Appeals for the Tenth Circuit affirmed.\\n&#39;}, {&#39;title&#39;: &#39;U.S. Fish and Wildlife Service v. Sierra Club&#39;, &#39;id&#39;: &#39;19-547&#39;, &#39;description&#39;: &#39;A case in which the Court will clarify the scope of the deliberative process privilege under Exemption 5 of the Freedom of Information Act.&#39;, &#39;dates&#39;: [&#39;Mar 2, 2020&#39;, &#39;Pending&#39;, &#39;Pending&#39;, &#39;&#39;], &#39;petitioner&#39;: &#39;United States Fish and Wildlife Service, et al.&#39;, &#39;respondent&#39;: &#39;Sierra Club, Inc.&#39;, &#39;lower_court&#39;: &#39;United States Court of Appeals for the Ninth Circuit&#39;, &#39;facts&#39;: &#39;Industrial facilities, power plants, and other manufacturing complexes use water from lakes, rivers, estuaries, and oceans to cool their facilities through cooling water intake structures. Because these structures potentially cause significant harm to aquatic life, Section 316(b) of the Clean Water Act directs the Environmental Protection Agency (EPA) to regulate their design and operation. In April 2011, the EPA proposed new regulations for cooling water intake structures. As part of the rule-making process and required by Section 7 of the Endangered Species Act, in 2012, the EPA consulted with the Fish and Wildlife Service and the National Marine Fisheries Service about the potential impacts of the regulations and produced a written biological opinion on the impacts of the proposed agency action.\\nThe Sierra Club made a Freedom of Information Act (FOIA) request for records generated during the EPA’s rule-making process, including the documents generated as part of the consultation with the Services. The Services withheld some of the requested records, citing Exemption 5 of FOIA, which shields from disclosure documents subject to the “deliberative process privilege.” The district court determined that 12 of the 16 requested records were not protected to the privilege and ordered disclosure. The U.S. Court of Appeals for the Ninth Circuit affirmed the lower court’s order to disclose some of the records but reversed as to two of the records.\\n&#39;, &#39;question&#39;: &#39;Industrial facilities, power plants, and other manufacturing complexes use water from lakes, rivers, estuaries, and oceans to cool their facilities through cooling water intake structures. Because these structures potentially cause significant harm to aquatic life, Section 316(b) of the Clean Water Act directs the Environmental Protection Agency (EPA) to regulate their design and operation. In April 2011, the EPA proposed new regulations for cooling water intake structures. As part of the rule-making process and required by Section 7 of the Endangered Species Act, in 2012, the EPA consulted with the Fish and Wildlife Service and the National Marine Fisheries Service about the potential impacts of the regulations and produced a written biological opinion on the impacts of the proposed agency action.\\nThe Sierra Club made a Freedom of Information Act (FOIA) request for records generated during the EPA’s rule-making process, including the documents generated as part of the consultation with the Services. The Services withheld some of the requested records, citing Exemption 5 of FOIA, which shields from disclosure documents subject to the “deliberative process privilege.” The district court determined that 12 of the 16 requested records were not protected to the privilege and ordered disclosure. The U.S. Court of Appeals for the Ninth Circuit affirmed the lower court’s order to disclose some of the records but reversed as to two of the records.\\n&#39;}, {&#39;title&#39;: &#39;United States v. Briggs&#39;, &#39;id&#39;: &#39;19-108&#39;, &#39;description&#39;: &#39;A case in which the Court will decide whether the U.S. Court of Appeals for the Armed Forces erred in concluding—contrary to its own longstanding precedent—that the Uniform Code of Military Justice allows prosecution of a rape that occurred between 1986 and 2006 only if it was discovered and charged within five years.&#39;, &#39;dates&#39;: [&#39;Nov 15, 2019&#39;, &#39;Pending&#39;, &#39;Pending&#39;, &#39;&#39;], &#39;petitioner&#39;: &#39;United States of America&#39;, &#39;respondent&#39;: &#39;Michael J.D. Briggs&#39;, &#39;lower_court&#39;: &#39;United States Court of Appeals for the Armed Forces&#39;, &#39;facts&#39;: &#39;In 2014, a general court-martial composed of a military judge alone found Michael Briggs guilty of rape in violation of Article 120(a), Uniform Code of Military Justice (UCMJ), 10 U.S.C. § 920(a) (2000), for conduct that occurred in 2005. Briggs did not raise the statute of limitations before or during the trial, and the military judge did not advise him that the statute of limitations might provide a basis for dismissal. The judge sentenced Briggs to a dismissal, confinement for five months, and a reprimand.\\nBriggs first raised the statute of limitations when he appealed to the United States Air Force Court of Criminal Appeals (AFCCA), but that court rejected his challenged because he had not raised the statute of limitations at trial. The court therefore affirmed the finding and sentence of the judge below. Briggs appealed to the U.S. Court of Appeals for the Armed Forces. Reviewing for plain error, the C.A.A.F. reversed the lower court, finding that the Rules for Courts-Martial R.C.M. 907(b)(2)(B) requires the military judge to inform the accused of the right to assert the statute of limitations. As such, the court found that if the military judge had informed Briggs of a possible statute of limitations defense, he would have sought dismissal.\\n&#39;, &#39;question&#39;: &#39;In 2014, a general court-martial composed of a military judge alone found Michael Briggs guilty of rape in violation of Article 120(a), Uniform Code of Military Justice (UCMJ), 10 U.S.C. § 920(a) (2000), for conduct that occurred in 2005. Briggs did not raise the statute of limitations before or during the trial, and the military judge did not advise him that the statute of limitations might provide a basis for dismissal. The judge sentenced Briggs to a dismissal, confinement for five months, and a reprimand.\\nBriggs first raised the statute of limitations when he appealed to the United States Air Force Court of Criminal Appeals (AFCCA), but that court rejected his challenged because he had not raised the statute of limitations at trial. The court therefore affirmed the finding and sentence of the judge below. Briggs appealed to the U.S. Court of Appeals for the Armed Forces. Reviewing for plain error, the C.A.A.F. reversed the lower court, finding that the Rules for Courts-Martial R.C.M. 907(b)(2)(B) requires the military judge to inform the accused of the right to assert the statute of limitations. As such, the court found that if the military judge had informed Briggs of a possible statute of limitations defense, he would have sought dismissal.\\n&#39;}, {&#39;title&#39;: &#39;Uzuegbunam v. Preczewski&#39;, &#39;id&#39;: &#39;19-968&#39;, &#39;description&#39;: &#39;A case in which the Court will decide whether a person may continue with a lawsuit seeking nominal damages against the government if, after the lawsuit was filed, the government changed its unconstitutional policy.&#39;, &#39;dates&#39;: [&#39;Jul 9, 2020&#39;, &#39;Pending&#39;, &#39;Pending&#39;, &#39;&#39;], &#39;petitioner&#39;: &#39;Chike Uzuegbunam, et al.&#39;, &#39;respondent&#39;: &#39;Stanley C. Preczewski, et al.&#39;, &#39;lower_court&#39;: &#39;United States Court of Appeals for the Eleventh Circuit&#39;, &#39;facts&#39;: &#39;In July 2016, Chike Uzuegbunam, a student at Georgia Gwinnett College (GGC), began distributing religious literature in an outdoor plaza on GGC’s campus. The campus police stopped him, however, citing GGC’s “Freedom of Expression Policy,” which stated that students were generally permitted to engage in expressive activities only in two designated speech zones, and only after reserving them.\\nLater, Uzuegbunam reserved one of the designated speech zones to speak to students about his religious beliefs, and campus police again stopped him. According to the police, he was exceeding the scope of his reservation by speaking in addition to handing out literature. After this incident, neither Uzuegbunam nor Joseph Bradford—another GGC student who wishes to speak publicly on campus about his religious beliefs—have attempted to speak publicly or distribute literature on campus.\\nUzuegbunam and Bradford filed a lawsuit seeking a declaratory judgment that the school’s policies, both facially and as-applied, violate their First and Fourteenth Amendment rights. They also sought nominal damages for the violation of these rights. GGC filed a motion to dismiss for failure to state a claim, and while that motion was pending, GGC revised its “Freedom of Expression Policy” to allow students to speak anywhere on campus without having to obtain a permit, except in limited circumstances. It also removed the portion of its student code of conduct that Uzuegbunam and Bradford had challenged. After making these changes, the school filed a motion to dismiss the case as moot.\\nThe district court dismissed the case as moot, concluding that the claims for nominal damages could not save otherwise moot constitutional challenges. The U.S. Court of Appeals for the Eleventh Circuit affirmed.\\n&#39;, &#39;question&#39;: &#39;In July 2016, Chike Uzuegbunam, a student at Georgia Gwinnett College (GGC), began distributing religious literature in an outdoor plaza on GGC’s campus. The campus police stopped him, however, citing GGC’s “Freedom of Expression Policy,” which stated that students were generally permitted to engage in expressive activities only in two designated speech zones, and only after reserving them.\\nLater, Uzuegbunam reserved one of the designated speech zones to speak to students about his religious beliefs, and campus police again stopped him. According to the police, he was exceeding the scope of his reservation by speaking in addition to handing out literature. After this incident, neither Uzuegbunam nor Joseph Bradford—another GGC student who wishes to speak publicly on campus about his religious beliefs—have attempted to speak publicly or distribute literature on campus.\\nUzuegbunam and Bradford filed a lawsuit seeking a declaratory judgment that the school’s policies, both facially and as-applied, violate their First and Fourteenth Amendment rights. They also sought nominal damages for the violation of these rights. GGC filed a motion to dismiss for failure to state a claim, and while that motion was pending, GGC revised its “Freedom of Expression Policy” to allow students to speak anywhere on campus without having to obtain a permit, except in limited circumstances. It also removed the portion of its student code of conduct that Uzuegbunam and Bradford had challenged. After making these changes, the school filed a motion to dismiss the case as moot.\\nThe district court dismissed the case as moot, concluding that the claims for nominal damages could not save otherwise moot constitutional challenges. The U.S. Court of Appeals for the Eleventh Circuit affirmed.\\n&#39;}, {&#39;title&#39;: &#39;Van Buren v. United States&#39;, &#39;id&#39;: &#39;19-783&#39;, &#39;description&#39;: &#39;A case in which the Court will decide whether a person who is authorized to access information on a computer for certain purposes violates Section 1030(a)(2) of the Computer Fraud and Abuse Act if he accesses that information for an improper purpose.&#39;, &#39;dates&#39;: [&#39;Apr 20, 2020&#39;, &#39;Pending&#39;, &#39;Pending&#39;, &#39;&#39;], &#39;petitioner&#39;: &#39;Nathan Van Buren&#39;, &#39;respondent&#39;: &#39;United States of America&#39;, &#39;lower_court&#39;: &#39;United States Court of Appeals for the Eleventh Circuit&#39;, &#39;facts&#39;: &#39;Nathan Van Buren was a sergeant with the Cumming, Georgia, Police Department. In that capacity, he came to know a man named Andrew Albo, who allegedly paid young prostitutes to spend time with him and then accused the women of stealing the money he gave them. Van Buren asked Albo for a loan, falsely claiming that he needed over $15,000 to settle his son’s medical bills. Unbeknownst to Van Buren, Albo recorded the conversation in which Van Buren requested the loan. Albo presented the recording to a detective in the Forsyth County Sheriff’s Office, alleging that Van Buren was “shaking him down for his money.” As a result, the FBI conducted a sting operation to test how far Van Buren was willing to go for money. As part of the sting operation, Albo asked Van Buren to look into a woman Albo named, to see whether she was an undercover officer before he would provide Van Buren with the full amount of money Van Buren requested. Van Buren searched the woman’s information in a government database maintained by the Georgia Bureau of Investigation (GBI) and the FBI. The next day, FBI and GBI agents confronted Van Buren, and Van Buren admitted to the fake story about his son to get the loan from Albo, his use of the government database to search for the woman Albo mentioned might be an undercover officer, and that he understood the purpose of searching the database was to discover and reveal to Albo whether the woman was an undercover officer.\\nA federal grand jury charged Van Buren with one count of honest-services wire fraud, in violation of 18 U.S.C. §§ 1343 and 1346, and one count of felony computer fraud, in violation of 18 U.S.C. § 1030. A jury convicted Van Buren on both counts, and Van Buren appealed his convictions. The U.S. Court of Appeals for the Sixth Circuit found the jury instructions as to the honest-services count were fatally flawed and remanded that charge for a new trial. It found no deficiencies in the conviction for computer fraud and affirmed that conviction, citing Eleventh Circuit precedent holding that a person with authority to access a computer can be guilty of computer fraud if that person subsequently misuses the computer. \\n&#39;, &#39;question&#39;: &#39;Nathan Van Buren was a sergeant with the Cumming, Georgia, Police Department. In that capacity, he came to know a man named Andrew Albo, who allegedly paid young prostitutes to spend time with him and then accused the women of stealing the money he gave them. Van Buren asked Albo for a loan, falsely claiming that he needed over $15,000 to settle his son’s medical bills. Unbeknownst to Van Buren, Albo recorded the conversation in which Van Buren requested the loan. Albo presented the recording to a detective in the Forsyth County Sheriff’s Office, alleging that Van Buren was “shaking him down for his money.” As a result, the FBI conducted a sting operation to test how far Van Buren was willing to go for money. As part of the sting operation, Albo asked Van Buren to look into a woman Albo named, to see whether she was an undercover officer before he would provide Van Buren with the full amount of money Van Buren requested. Van Buren searched the woman’s information in a government database maintained by the Georgia Bureau of Investigation (GBI) and the FBI. The next day, FBI and GBI agents confronted Van Buren, and Van Buren admitted to the fake story about his son to get the loan from Albo, his use of the government database to search for the woman Albo mentioned might be an undercover officer, and that he understood the purpose of searching the database was to discover and reveal to Albo whether the woman was an undercover officer.\\nA federal grand jury charged Van Buren with one count of honest-services wire fraud, in violation of 18 U.S.C. §§ 1343 and 1346, and one count of felony computer fraud, in violation of 18 U.S.C. § 1030. A jury convicted Van Buren on both counts, and Van Buren appealed his convictions. The U.S. Court of Appeals for the Sixth Circuit found the jury instructions as to the honest-services count were fatally flawed and remanded that charge for a new trial. It found no deficiencies in the conviction for computer fraud and affirmed that conviction, citing Eleventh Circuit precedent holding that a person with authority to access a computer can be guilty of computer fraud if that person subsequently misuses the computer. \\n&#39;}]\n"
    }
   ],
   "source": [
    "def repair(string):\n",
    "    string = BeautifulSoup(response['facts_of_the_case']).text\n",
    "    string = string.replace(u'\\xa0', u' ')\n",
    "    return string\n",
    "\n",
    "DATE_TYPES = ['granted', 'argued', 'decided', 'citation']\n",
    "\n",
    "elements = driver.find_elements(By.CSS_SELECTOR, 'ul.index.ng-scope li.ng-scope')\n",
    "cases = []\n",
    "for ele in elements:\n",
    "    info = {}\n",
    "    title = ele.find_element(By.TAG_NAME, 'h2')\n",
    "    link = ele.find_element(By.CSS_SELECTOR, 'a[href^=\"cases/'+ YEAR +'/\"]')\n",
    "    id = link.get_attribute('href').split('/')[-1]\n",
    "    description = ele.find_element(By.CLASS_NAME, 'description')\n",
    "    dates = []\n",
    "    for date in DATE_TYPES:\n",
    "        val = ele.find_element(By.CLASS_NAME, date).find_elements(By.TAG_NAME, 'div')[0]\n",
    "        if val == '':\n",
    "            val = ele.find_element(By.CLASS_NAME, date).find_elements(By.TAG_NAME, 'div')[-1]\n",
    "        dates.append(val.text)\n",
    "    info.update({'title': title.text, 'id': id, 'description': description.text, 'dates': dates})\n",
    "    response = requests.get('https://api.oyez.org/cases/'+YEAR+'/'+id).json()\n",
    "    info.update({'petitioner': response['first_party'], 'respondent': response['second_party'], 'lower_court': response['lower_court']['name'], 'facts': repair(response['facts_of_the_case']), 'question': repair(response['question'])})\n",
    "    cases.append(info)\n",
    "print(cases)"
   ]
  },
  {
   "cell_type": "code",
   "execution_count": 68,
   "metadata": {},
   "outputs": [],
   "source": [
    "driver.quit()"
   ]
  },
  {
   "cell_type": "code",
   "execution_count": 70,
   "metadata": {},
   "outputs": [],
   "source": [
    "import firebase_admin\n",
    "from firebase_admin import credentials\n",
    "from firebase_admin import firestore\n",
    "\n",
    "cred = credentials.Certificate(\"../firebase-key.json\")\n",
    "firebase_admin.initialize_app(cred, {\n",
    "  'projectId': 'thesupremehacks',\n",
    "})\n",
    "\n",
    "db = firestore.client()\n",
    "\n",
    "cases_collec = db.collection('cases')\n",
    "small = [cases[0]]\n",
    "for case in cases:\n",
    "    case_ref = cases_collec.document(case['id']).set(case, merge=True)"
   ]
  }
 ],
 "metadata": {
  "kernelspec": {
   "display_name": "Python 3.8.5 64-bit",
   "language": "python",
   "name": "python38564bit4d88f267f1b647418d57149611245130"
  },
  "language_info": {
   "codemirror_mode": {
    "name": "ipython",
    "version": 3
   },
   "file_extension": ".py",
   "mimetype": "text/x-python",
   "name": "python",
   "nbconvert_exporter": "python",
   "pygments_lexer": "ipython3",
   "version": "3.8.5-final"
  }
 },
 "nbformat": 4,
 "nbformat_minor": 4
}